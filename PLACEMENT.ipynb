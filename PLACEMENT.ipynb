{
  "nbformat": 4,
  "nbformat_minor": 0,
  "metadata": {
    "colab": {
      "name": "PLACEMENT.ipynb",
      "provenance": []
    },
    "kernelspec": {
      "name": "python3",
      "display_name": "Python 3"
    }
  },
  "cells": [
    {
      "cell_type": "markdown",
      "metadata": {
        "id": "1DN2Z8nqtIMx"
      },
      "source": [
        " GAME"
      ]
    },
    {
      "cell_type": "code",
      "metadata": {
        "colab": {
          "base_uri": "https://localhost:8080/"
        },
        "id": "dJt4Ml_d7zNo",
        "outputId": "142edfb0-47cd-4280-db4d-fbc3e7599b81"
      },
      "source": [
        "while(1):\n",
        "  n=int(input())\n",
        "  if n==12:\n",
        "    print(\"game wins\")\n",
        "    break"
      ],
      "execution_count": null,
      "outputs": [
        {
          "output_type": "stream",
          "text": [
            "1\n",
            "2\n",
            "3\n",
            "4\n",
            "5\n",
            "6\n",
            "7\n",
            "88\n",
            "9\n",
            "10\n",
            "11\n",
            "12\n",
            "game wins\n"
          ],
          "name": "stdout"
        }
      ]
    },
    {
      "cell_type": "markdown",
      "metadata": {
        "id": "WTzR3R-RtOtq"
      },
      "source": [
        "Python program to solve quadratic equation"
      ]
    },
    {
      "cell_type": "code",
      "metadata": {
        "colab": {
          "base_uri": "https://localhost:8080/"
        },
        "id": "O1zSYYIan-bA",
        "outputId": "8b6dd486-c8a6-4b64-8543-feb4045b2e55"
      },
      "source": [
        "import cmath\n",
        "a,b,c=map(int,input().split())\n",
        "#a = float(input('Enter a: '))  \n",
        "#b = float(input('Enter b: '))  \n",
        "#c = float(input('Enter c: '))\n",
        "d = (b**2) - (4*a*c)  \n",
        "  \n",
        "# find two solutions  \n",
        "sol1 = (-b-cmath.sqrt(d))/(2*a)  \n",
        "sol2 = (-b+cmath.sqrt(d))/(2*a)    \n",
        "#r=(-b+cmath.sqrt((b**2)-(4*a*c))/(2*a))\n",
        "#r1=((-b-cmath.sqrt((b**2)-(4*a*c))/(2*a))\n",
        "print(sol1)\n",
        "print(sol2)"
      ],
      "execution_count": null,
      "outputs": [
        {
          "output_type": "stream",
          "text": [
            "5 6 1\n",
            "(-1+0j)\n",
            "(-0.2+0j)\n"
          ],
          "name": "stdout"
        }
      ]
    },
    {
      "cell_type": "markdown",
      "metadata": {
        "id": "dyrZ_t3guGEL"
      },
      "source": [
        "Python program to generate a random number"
      ]
    },
    {
      "cell_type": "code",
      "metadata": {
        "colab": {
          "base_uri": "https://localhost:8080/"
        },
        "id": "UAmOfKOBuHHk",
        "outputId": "06f61540-acf0-49d3-94ca-bffc04885c44"
      },
      "source": [
        "import random as randint\n",
        "print(randint.randint(3,300))"
      ],
      "execution_count": null,
      "outputs": [
        {
          "output_type": "stream",
          "text": [
            "16\n"
          ],
          "name": "stdout"
        }
      ]
    },
    {
      "cell_type": "markdown",
      "metadata": {
        "id": "oilT8KJ-v0r3"
      },
      "source": [
        "Python program to convert kilometers to miles"
      ]
    },
    {
      "cell_type": "code",
      "metadata": {
        "colab": {
          "base_uri": "https://localhost:8080/"
        },
        "id": "WGV_-1H2v7G8",
        "outputId": "bebc9921-094a-4f4c-f8a5-e2e4286b6ced"
      },
      "source": [
        "km=int(input())\n",
        "print(km*0.62137)"
      ],
      "execution_count": null,
      "outputs": [
        {
          "output_type": "stream",
          "text": [
            "8\n",
            "4.97096\n"
          ],
          "name": "stdout"
        }
      ]
    },
    {
      "cell_type": "markdown",
      "metadata": {
        "id": "_yU5P3Pe5R4y"
      },
      "source": [
        "Python program to convert Celsius to Fahrenheit\n",
        "\n",
        "\n",
        "\n",
        "\n",
        "\n",
        "\n",
        "\n",
        "\n",
        "\n",
        "\n",
        "\n",
        "\n",
        "\n",
        "\n",
        "\n",
        "\n",
        "\n",
        "\n",
        "\n",
        "\n",
        "\n",
        "\n",
        "\n",
        "\n",
        "\n",
        "\n",
        "\n",
        "\n",
        "\n",
        "\n",
        "\n",
        "\n",
        "\n",
        "\n",
        "\n"
      ]
    },
    {
      "cell_type": "code",
      "metadata": {
        "colab": {
          "base_uri": "https://localhost:8080/"
        },
        "id": "nsxfLcKi5S1a",
        "outputId": "c1442b27-24bf-4754-de2d-1f44fd3b92c0"
      },
      "source": [
        "c=int(input())\n",
        "f=(c*1.8)+32\n",
        "print(f)"
      ],
      "execution_count": null,
      "outputs": [
        {
          "output_type": "stream",
          "text": [
            "33\n",
            "91.4\n"
          ],
          "name": "stdout"
        }
      ]
    },
    {
      "cell_type": "markdown",
      "metadata": {
        "id": "vkkVysgk-fgd"
      },
      "source": [
        "Python program to display calendar"
      ]
    },
    {
      "cell_type": "code",
      "metadata": {
        "colab": {
          "base_uri": "https://localhost:8080/"
        },
        "id": "w5MUMgQFCcQo",
        "outputId": "2ade5fc3-e14f-433e-bd12-b90f56bb3a0d"
      },
      "source": [
        "import calendar as c\n",
        "y,m=map(int,input().split())\n",
        "print(c.month(y,m))"
      ],
      "execution_count": null,
      "outputs": [
        {
          "output_type": "stream",
          "text": [
            "1999 9\n",
            "   September 1999\n",
            "Mo Tu We Th Fr Sa Su\n",
            "       1  2  3  4  5\n",
            " 6  7  8  9 10 11 12\n",
            "13 14 15 16 17 18 19\n",
            "20 21 22 23 24 25 26\n",
            "27 28 29 30\n",
            "\n"
          ],
          "name": "stdout"
        }
      ]
    },
    {
      "cell_type": "markdown",
      "metadata": {
        "id": "isqT9QYG3I18"
      },
      "source": [
        "Python Program to check if a Number is Positive, Negative or Zero"
      ]
    },
    {
      "cell_type": "code",
      "metadata": {
        "colab": {
          "base_uri": "https://localhost:8080/"
        },
        "id": "GcmMoLSI3Q5R",
        "outputId": "585bea65-0072-4da7-bb88-7fe856a8fcc8"
      },
      "source": [
        "n=int(input())\n",
        "if n>0:\n",
        "  print(\"positive\")\n",
        "elif n<0:\n",
        "  print(\"{0} is negative number\".format(n))\n",
        "else:\n",
        "  print(\"zero\")"
      ],
      "execution_count": null,
      "outputs": [
        {
          "output_type": "stream",
          "text": [
            "3\n",
            "positive\n"
          ],
          "name": "stdout"
        }
      ]
    },
    {
      "cell_type": "markdown",
      "metadata": {
        "id": "ITP-rgx44IIV"
      },
      "source": [
        "Python Program to Check if a Number is Odd or Even"
      ]
    },
    {
      "cell_type": "code",
      "metadata": {
        "colab": {
          "base_uri": "https://localhost:8080/"
        },
        "id": "ufwW-Zzq5qo5",
        "outputId": "196baeaf-517f-471e-b9c9-8b9cc836c906"
      },
      "source": [
        "n=int(input())\n",
        "if n&1==1:\n",
        "  print(n,\" is odd\")\n",
        "else:\n",
        "  print(n,\"is even\")\n",
        "number=int(input(\"Please Enter a Number : \"));  \n",
        "x=int(number/2)*2;  \n",
        "if(x==number):  \n",
        "    print(\"This Number is Even\")    \n",
        "else:  \n",
        "    print(\"This Number is Odd\")  "
      ],
      "execution_count": null,
      "outputs": [
        {
          "output_type": "stream",
          "text": [
            "2\n",
            "2 is even\n",
            "Please Enter a Number : 546343\n",
            "This Number is Odd\n"
          ],
          "name": "stdout"
        }
      ]
    },
    {
      "cell_type": "markdown",
      "metadata": {
        "id": "iJuS5yBp9Po5"
      },
      "source": [
        "Python Program to Check Leap Year"
      ]
    },
    {
      "cell_type": "code",
      "metadata": {
        "id": "4NgHXarW9Qk-",
        "colab": {
          "base_uri": "https://localhost:8080/"
        },
        "outputId": "41d5280f-d4f8-434d-959c-8b635a615e78"
      },
      "source": [
        "year=int(input())\n",
        "if year%4==0 and year%100!=0 or year%400==0:\n",
        "  print(year,\"LEAP\")\n",
        "else:\n",
        "  print(year,\"NON LEAP\")"
      ],
      "execution_count": null,
      "outputs": [
        {
          "output_type": "stream",
          "text": [
            "2000\n",
            "2000 LEAP\n"
          ],
          "name": "stdout"
        }
      ]
    },
    {
      "cell_type": "markdown",
      "metadata": {
        "id": "8wIXBd87IVj7"
      },
      "source": [
        "Python Program to Check Prime Number"
      ]
    },
    {
      "cell_type": "code",
      "metadata": {
        "colab": {
          "base_uri": "https://localhost:8080/"
        },
        "id": "tZbv0FK1IWgv",
        "outputId": "9d9c581b-b755-4198-d12a-2a24a7cccdce"
      },
      "source": [
        "import sys\n",
        "n=int(input())\n",
        "for i in range(1,n+1):\n",
        "  if n%i==0 and (i==1 or i==n):\n",
        "    continue\n",
        "print(\"not prime\")"
      ],
      "execution_count": null,
      "outputs": [
        {
          "output_type": "stream",
          "text": [
            "7\n",
            "not prime\n"
          ],
          "name": "stdout"
        }
      ]
    },
    {
      "cell_type": "markdown",
      "metadata": {
        "id": "k_y4uy2VYFmk"
      },
      "source": [
        "Python Program to Print all Prime Numbers between an Interval"
      ]
    },
    {
      "cell_type": "code",
      "metadata": {
        "colab": {
          "base_uri": "https://localhost:8080/"
        },
        "id": "Px4XQdphYJm1",
        "outputId": "4d9874bc-789d-4c40-a94e-e7cc9fbc1a47"
      },
      "source": [
        "n,m=map(int,input().split())\n",
        "for i in range(n,m+1):\n",
        "  if i>0:\n",
        "    for j in range(2,i):\n",
        "      if i%j==0:\n",
        "       #print(\"not prime no series are formed\")\n",
        "       break\n",
        "    else:\n",
        "      print(\"prime numbers are \",i)"
      ],
      "execution_count": null,
      "outputs": [
        {
          "output_type": "stream",
          "text": [
            "2 12\n",
            "prime numbers are  2\n",
            "prime numbers are  3\n",
            "prime numbers are  5\n",
            "prime numbers are  7\n",
            "prime numbers are  11\n"
          ],
          "name": "stdout"
        }
      ]
    },
    {
      "cell_type": "markdown",
      "metadata": {
        "id": "LuRB_VVme6qe"
      },
      "source": [
        "Program to Find the Factorial of a Number"
      ]
    },
    {
      "cell_type": "code",
      "metadata": {
        "colab": {
          "base_uri": "https://localhost:8080/"
        },
        "id": "ejyXaC7CflD1",
        "outputId": "092a2491-76bb-49d0-96aa-cfa47dfbc0d2"
      },
      "source": [
        "n=int(input())\n",
        "fact=1\n",
        "if n<0:\n",
        "  print(\"fact not exist\")\n",
        "elif n==0:\n",
        "  print(\"fact is \",fact)\n",
        "else:\n",
        "  for i in range(1,n+1):\n",
        "    fact*=i\n",
        "  print(fact)"
      ],
      "execution_count": null,
      "outputs": [
        {
          "output_type": "stream",
          "text": [
            "4\n",
            "24\n"
          ],
          "name": "stdout"
        }
      ]
    },
    {
      "cell_type": "markdown",
      "metadata": {
        "id": "BJcFD7Dugxid"
      },
      "source": [
        "Python Program to Display the multiplication Table"
      ]
    },
    {
      "cell_type": "code",
      "metadata": {
        "colab": {
          "base_uri": "https://localhost:8080/"
        },
        "id": "mhct02jVg4vY",
        "outputId": "1efdbabc-0bf9-4cf4-ce91-37e5b4bd6787"
      },
      "source": [
        "m=int(input(\"which table \"))\n",
        "for i in range(1,20+1):\n",
        "  print(i,'\\t*',m,\"=\",i*m)"
      ],
      "execution_count": null,
      "outputs": [
        {
          "output_type": "stream",
          "text": [
            "which table 12\n",
            "1 \t* 12 = 12\n",
            "2 \t* 12 = 24\n",
            "3 \t* 12 = 36\n",
            "4 \t* 12 = 48\n",
            "5 \t* 12 = 60\n",
            "6 \t* 12 = 72\n",
            "7 \t* 12 = 84\n",
            "8 \t* 12 = 96\n",
            "9 \t* 12 = 108\n",
            "10 \t* 12 = 120\n",
            "11 \t* 12 = 132\n",
            "12 \t* 12 = 144\n",
            "13 \t* 12 = 156\n",
            "14 \t* 12 = 168\n",
            "15 \t* 12 = 180\n",
            "16 \t* 12 = 192\n",
            "17 \t* 12 = 204\n",
            "18 \t* 12 = 216\n",
            "19 \t* 12 = 228\n",
            "20 \t* 12 = 240\n"
          ],
          "name": "stdout"
        }
      ]
    },
    {
      "cell_type": "markdown",
      "metadata": {
        "id": "wHXu9r1Ci4MN"
      },
      "source": [
        " Program to Print the Fibonacci sequence"
      ]
    },
    {
      "cell_type": "code",
      "metadata": {
        "colab": {
          "base_uri": "https://localhost:8080/"
        },
        "id": "F6m3-DqjjARO",
        "outputId": "c66c7fc1-a8cc-4817-c3f6-45fc99a6054c"
      },
      "source": [
        "n=int(input())\n",
        "f1=0\n",
        "f2=1\n",
        "print(\"0\",f1)\n",
        "print(\"1\",f2)\n",
        "for i in range(2,n):\n",
        "  f3=f1+f2\n",
        "  f1=f2\n",
        "  f2=f3\n",
        "  print(i,f3)"
      ],
      "execution_count": null,
      "outputs": [
        {
          "output_type": "stream",
          "text": [
            "9\n",
            "0 0\n",
            "1 1\n",
            "2 1\n",
            "3 2\n",
            "4 3\n",
            "5 5\n",
            "6 8\n",
            "7 13\n",
            "8 21\n"
          ],
          "name": "stdout"
        }
      ]
    },
    {
      "cell_type": "markdown",
      "metadata": {
        "id": "DXpVildBvNsk"
      },
      "source": [
        "Python Program to Check Armstrong Number"
      ]
    },
    {
      "cell_type": "code",
      "metadata": {
        "colab": {
          "base_uri": "https://localhost:8080/"
        },
        "id": "UiILTpOEv3YR",
        "outputId": "667d81c3-d815-4adc-e651-68b7882b0f8f"
      },
      "source": [
        "n=int(input())\n",
        "temp=n\n",
        "sum=0\n",
        "while(n>0):\n",
        "  rem=n%10\n",
        "  sum=sum+rem**3\n",
        "  n=n//10\n",
        "if sum==temp:\n",
        "  print(temp,\" is amstrong number\")\n",
        "else:\n",
        "  print(temp,\" is not an amstrong number\")"
      ],
      "execution_count": null,
      "outputs": [
        {
          "output_type": "stream",
          "text": [
            "153\n",
            "153  is amstrong number\n"
          ],
          "name": "stdout"
        }
      ]
    },
    {
      "cell_type": "markdown",
      "metadata": {
        "id": "Nzi1Q5E33lU_"
      },
      "source": [
        "Python Program to Find Armstrong Number between an Interval"
      ]
    },
    {
      "cell_type": "code",
      "metadata": {
        "colab": {
          "base_uri": "https://localhost:8080/"
        },
        "id": "3L54RySs3mW2",
        "outputId": "ce780cf0-85e5-4a07-97eb-0c73b92b3687"
      },
      "source": [
        "upper = int(input(\"Enter upper range: \"))  \n",
        "for num in range(1,upper + 1):  \n",
        "   sum = 0  \n",
        "   temp = num  \n",
        "   while temp > 0:  \n",
        "       digit = temp % 10  \n",
        "       sum += digit ** 3  \n",
        "       temp //= 10  \n",
        "       if num == sum:\n",
        "           print(num)  "
      ],
      "execution_count": null,
      "outputs": [
        {
          "output_type": "stream",
          "text": [
            "Enter upper range: 153\n",
            "1\n",
            "64\n",
            "125\n",
            "153\n"
          ],
          "name": "stdout"
        }
      ]
    },
    {
      "cell_type": "markdown",
      "metadata": {
        "id": "GBML7AZJvKqh"
      },
      "source": [
        "Python Program to Find the Sum of Natural Numbers"
      ]
    },
    {
      "cell_type": "code",
      "metadata": {
        "colab": {
          "base_uri": "https://localhost:8080/"
        },
        "id": "eEfVFlq6vLnB",
        "outputId": "7f93a728-7341-430b-abc7-e011943c54c5"
      },
      "source": [
        "n=int(input())\n",
        "s=0\n",
        "d=n*(n+1)/2\n",
        "print(int(d))"
      ],
      "execution_count": null,
      "outputs": [
        {
          "output_type": "stream",
          "text": [
            "100\n",
            "5050\n"
          ],
          "name": "stdout"
        }
      ]
    },
    {
      "cell_type": "markdown",
      "metadata": {
        "id": "4xq4FnFFwo59"
      },
      "source": [
        "Python program to sort the elements of an array in ascending order"
      ]
    },
    {
      "cell_type": "code",
      "metadata": {
        "colab": {
          "base_uri": "https://localhost:8080/"
        },
        "id": "amDSuuquwqG6",
        "outputId": "26780309-7ec7-4688-9992-417ab2065966"
      },
      "source": [
        "arr=list(map(int,input().split()))\n",
        "for i in range(0,len(arr)):\n",
        "  for j in range(i+1,len(arr)):\n",
        "    if arr[i]<arr[j]:\n",
        "      temp=arr[i]\n",
        "      arr[i] =arr[j]\n",
        "      arr[j]=temp\n",
        "print(arr)"
      ],
      "execution_count": null,
      "outputs": [
        {
          "output_type": "stream",
          "text": [
            "5 2 8 7 1\n",
            "[8, 7, 5, 2, 1]\n"
          ],
          "name": "stdout"
        }
      ]
    },
    {
      "cell_type": "markdown",
      "metadata": {
        "id": "katL1saWyt5E"
      },
      "source": [
        " Python program to print the smallest element in an array"
      ]
    },
    {
      "cell_type": "code",
      "metadata": {
        "colab": {
          "base_uri": "https://localhost:8080/"
        },
        "id": "cUukdKRqyuza",
        "outputId": "d170e1ed-0da9-4b8e-98e0-5a733b8e3c58"
      },
      "source": [
        "arr=list(map(int,input().split()))\n",
        "min=arr[0]\n",
        "for i in range(0,len(arr)):\n",
        "  if arr[i]<min:\n",
        "    min=arr[i]\n",
        "print(min)"
      ],
      "execution_count": null,
      "outputs": [
        {
          "output_type": "stream",
          "text": [
            "25 11 7 75 56\n",
            "7\n"
          ],
          "name": "stdout"
        }
      ]
    },
    {
      "cell_type": "markdown",
      "metadata": {
        "id": "Mem6uDhf0IRn"
      },
      "source": [
        " Python program to print the largest element in an array"
      ]
    },
    {
      "cell_type": "code",
      "metadata": {
        "colab": {
          "base_uri": "https://localhost:8080/"
        },
        "id": "Gm41mcE40JPu",
        "outputId": "d13b5c0e-5e56-4df3-b12b-6c2050f49864"
      },
      "source": [
        "arr=list(map(int,input().split()))\n",
        "min=arr[0]\n",
        "for i in range(0,len(arr)):\n",
        "  if arr[i]>min:\n",
        "    min=arr[i]\n",
        "print(min)"
      ],
      "execution_count": null,
      "outputs": [
        {
          "output_type": "stream",
          "text": [
            "25 11 7 75 56\n",
            "75\n"
          ],
          "name": "stdout"
        }
      ]
    },
    {
      "cell_type": "markdown",
      "metadata": {
        "id": "kpAjlAD70bCC"
      },
      "source": [
        "Python program to print the elements of an array in reverse order"
      ]
    },
    {
      "cell_type": "code",
      "metadata": {
        "colab": {
          "base_uri": "https://localhost:8080/"
        },
        "id": "tT9jj-e_0mow",
        "outputId": "e0e30190-f9e4-4439-dd62-a26d1c3e61de"
      },
      "source": [
        "arr=list(map(int,input().split()))\n",
        "for i in range(len(arr),0):\n",
        "  print(arr)"
      ],
      "execution_count": null,
      "outputs": [
        {
          "output_type": "stream",
          "text": [
            "25 11 7 75 56\n"
          ],
          "name": "stdout"
        }
      ]
    },
    {
      "cell_type": "markdown",
      "metadata": {
        "id": "u0hzWVww14Be"
      },
      "source": [
        "Python program to print the sum of all elements in an array"
      ]
    },
    {
      "cell_type": "code",
      "metadata": {
        "colab": {
          "base_uri": "https://localhost:8080/"
        },
        "id": "SNMETSxk147x",
        "outputId": "4e57cc6e-b15c-4e92-90ec-4d6c4b488cf0"
      },
      "source": [
        "l=list(map(int,input().split()))\n",
        "s=0\n",
        "for i in range(0,len(l)):\n",
        "  s=s+l[i]\n",
        "print(s)"
      ],
      "execution_count": null,
      "outputs": [
        {
          "output_type": "stream",
          "text": [
            "1 2 3 4 5\n",
            "15\n"
          ],
          "name": "stdout"
        }
      ]
    },
    {
      "cell_type": "markdown",
      "metadata": {
        "id": "Iq7Chke-4zgx"
      },
      "source": [
        "Python program to print the duplicate elements of an array"
      ]
    },
    {
      "cell_type": "code",
      "metadata": {
        "colab": {
          "base_uri": "https://localhost:8080/"
        },
        "id": "eISxpFRx46_o",
        "outputId": "26480d58-d221-4163-ab29-8c74ba3c611b"
      },
      "source": [
        "arr=list(map(int,input().split()))\n",
        "for i in range(0,len(arr)):\n",
        "  for j in range(i+1,len(arr)):\n",
        "    if arr[i]==arr[j]:\n",
        "      print(arr[i])"
      ],
      "execution_count": null,
      "outputs": [
        {
          "output_type": "stream",
          "text": [
            "1 2 3 4 2 7 8 8 3\n",
            "2\n",
            "3\n",
            "8\n"
          ],
          "name": "stdout"
        }
      ]
    },
    {
      "cell_type": "markdown",
      "metadata": {
        "id": "x_tTbanJ-IlH"
      },
      "source": [
        "Python program to print the number of elements present in an array"
      ]
    },
    {
      "cell_type": "code",
      "metadata": {
        "colab": {
          "base_uri": "https://localhost:8080/"
        },
        "id": "wkvycfTD-i-J",
        "outputId": "006b28be-6d21-444f-ae68-05561446e643"
      },
      "source": [
        "arr=list(map(int,input().split()))\n",
        "print(len(arr))"
      ],
      "execution_count": null,
      "outputs": [
        {
          "output_type": "stream",
          "text": [
            "1 22 3 4 5 6 7 8 9 0\n",
            "10\n"
          ],
          "name": "stdout"
        }
      ]
    },
    {
      "cell_type": "markdown",
      "metadata": {
        "id": "EaFtpG0I_LaW"
      },
      "source": [
        "Python program to find the frequency of each element in the array"
      ]
    },
    {
      "cell_type": "code",
      "metadata": {
        "colab": {
          "base_uri": "https://localhost:8080/"
        },
        "id": "AXJ6uzLDBTij",
        "outputId": "ff269e2e-ca75-46a8-bbec-6405cc1912e1"
      },
      "source": [
        "import collections as c\n",
        "arr=list(map(int,input().split()))\n",
        "d=c.Counter(arr)\n",
        "print(d)\n"
      ],
      "execution_count": null,
      "outputs": [
        {
          "output_type": "stream",
          "text": [
            "7 4 4 8 4 7 7 8 1 5\n",
            "Counter({7: 3, 4: 3, 8: 2, 1: 1, 5: 1})\n"
          ],
          "name": "stdout"
        }
      ]
    },
    {
      "cell_type": "markdown",
      "metadata": {
        "id": "XkPzYkniDL_s"
      },
      "source": [
        "Python program to copy all elements of one array into another array"
      ]
    },
    {
      "cell_type": "code",
      "metadata": {
        "colab": {
          "base_uri": "https://localhost:8080/"
        },
        "id": "mMKL7jDTDM26",
        "outputId": "66ad0a13-19b9-4b28-e7f1-b9b8583b7bcd"
      },
      "source": [
        "arr=list(map(int,input().split()))\n",
        "l=[]\n",
        "l.append(arr)\n",
        "print(str(l))"
      ],
      "execution_count": null,
      "outputs": [
        {
          "output_type": "stream",
          "text": [
            "1 2 3 4 5\n",
            "[[1, 2, 3, 4, 5]]\n"
          ],
          "name": "stdout"
        }
      ]
    },
    {
      "cell_type": "markdown",
      "metadata": {
        "id": "6UPKWvD6G6_G"
      },
      "source": [
        "Python program to left rotate the elements of an array"
      ]
    },
    {
      "cell_type": "code",
      "metadata": {
        "id": "17dk5W7OkX8c",
        "colab": {
          "base_uri": "https://localhost:8080/"
        },
        "outputId": "9a6c4bf8-d418-45ab-c720-86a174d7e726"
      },
      "source": [
        "l=list(map(int,input().split()))\n",
        "nl=l[:]\n",
        "n=int(input('how many times rotate?'))\n",
        "for i in range(0,n):\n",
        "  f=l[0]\n",
        "  for j in range(0,len(l)-1):\n",
        "    l[j]=l[j+1]\n",
        "  l[len(l)-1]=f  \n",
        "print(l)\n",
        "\n",
        "n=n%len(nl)\n",
        "print(n)\n",
        "left=nl[:n]\n",
        "print(left)\n",
        "nl=nl[n:]\n",
        "nl.extend(left)\n",
        "print(nl)"
      ],
      "execution_count": null,
      "outputs": [
        {
          "output_type": "stream",
          "text": [
            "1 2 3 4 5\n",
            "how many times rotate?3\n",
            "[4, 5, 1, 2, 3]\n",
            "3\n",
            "[1, 2, 3]\n",
            "[4, 5, 1, 2, 3]\n"
          ],
          "name": "stdout"
        }
      ]
    },
    {
      "cell_type": "markdown",
      "metadata": {
        "id": "cNtYH8S1Mw2D"
      },
      "source": [
        "Python program to right rotate the elements of an array\n",
        "\n"
      ]
    },
    {
      "cell_type": "code",
      "metadata": {
        "id": "IykmrDCSM2Wr",
        "colab": {
          "base_uri": "https://localhost:8080/"
        },
        "outputId": "3b5b27dd-4048-48ad-9bdc-dfb4a25d036b"
      },
      "source": [
        "arr=list(map(int,input().split()))\n",
        "n=int(input())\n",
        "for i in range(0,n):\n",
        "  last=arr[len(arr)-1]\n",
        "  for j in range(len(arr)-1,-1,-1):\n",
        "    arr[j]=arr[j-1]\n",
        "  arr[0]=last\n",
        "print(arr)"
      ],
      "execution_count": null,
      "outputs": [
        {
          "output_type": "stream",
          "text": [
            "1 2 3 4 5\n",
            "3\n",
            "[5, 2, 3, 4, 5]\n"
          ],
          "name": "stdout"
        }
      ]
    },
    {
      "cell_type": "markdown",
      "metadata": {
        "id": "PwaoESgWFpTO"
      },
      "source": [
        "Program to Find LCM"
      ]
    },
    {
      "cell_type": "code",
      "metadata": {
        "colab": {
          "base_uri": "https://localhost:8080/"
        },
        "id": "EEVYAjWnZuPB",
        "outputId": "9d1dff8c-2b8b-47a9-d486-3b0b96714071"
      },
      "source": [
        "n=int(input())\n",
        "m=int(input())\n",
        "if n>m:\n",
        "  greater=n\n",
        "else:\n",
        "  greater=m\n",
        "while(1):\n",
        "  if greater%n==0 and greater%m==0:\n",
        "    print(greater)\n",
        "    break\n",
        "  greater+=1"
      ],
      "execution_count": null,
      "outputs": [
        {
          "output_type": "stream",
          "text": [
            "12\n",
            "48\n",
            "48\n"
          ],
          "name": "stdout"
        }
      ]
    },
    {
      "cell_type": "markdown",
      "metadata": {
        "id": "4OhpfAu4afzg"
      },
      "source": [
        "\n",
        "Python Program to Find HCF"
      ]
    },
    {
      "cell_type": "code",
      "metadata": {
        "colab": {
          "base_uri": "https://localhost:8080/"
        },
        "id": "4EM5puGpaj7n",
        "outputId": "0e23ac2a-f050-4c61-8dc4-4bfcfafc285a"
      },
      "source": [
        "import math\n",
        "n=int(input())\n",
        "m=int(input())\n",
        "hcf=1\n",
        "if n>m:\n",
        "  s=m\n",
        "else:\n",
        "  s=n\n",
        "for i in range(1,s+1):\n",
        "  if n%i==0 and m%i==0:\n",
        "    hcf=i\n",
        "print(hcf)"
      ],
      "execution_count": null,
      "outputs": [
        {
          "output_type": "stream",
          "text": [
            "48\n",
            "36\n",
            "12\n"
          ],
          "name": "stdout"
        }
      ]
    },
    {
      "cell_type": "markdown",
      "metadata": {
        "id": "F7cGartbiduL"
      },
      "source": [
        "Program to Convert Decimal to Binary, Octal and Hexadecimal"
      ]
    },
    {
      "cell_type": "code",
      "metadata": {
        "colab": {
          "base_uri": "https://localhost:8080/"
        },
        "id": "zrsyw1iLiec9",
        "outputId": "989d2ef5-a113-4d40-e0ab-19f544e3bf02"
      },
      "source": [
        "n=int(input())\n",
        "#a=n[2:]\n",
        "print(bin(n))\n",
        "print(oct(n))\n",
        "print(hex(n))"
      ],
      "execution_count": null,
      "outputs": [
        {
          "output_type": "stream",
          "text": [
            "2\n",
            "0b10\n",
            "0o2\n",
            "0x2\n"
          ],
          "name": "stdout"
        }
      ]
    },
    {
      "cell_type": "markdown",
      "metadata": {
        "id": "-7PK6fjYj7sh"
      },
      "source": [
        "Program To Find ASCII value of a character"
      ]
    },
    {
      "cell_type": "code",
      "metadata": {
        "colab": {
          "base_uri": "https://localhost:8080/"
        },
        "id": "o9d1OLcQj8ey",
        "outputId": "49125914-3da4-40b6-9831-f612d0a5af5e"
      },
      "source": [
        "c=input()\n",
        "print(ord(c))"
      ],
      "execution_count": null,
      "outputs": [
        {
          "output_type": "stream",
          "text": [
            "A\n",
            "65\n"
          ],
          "name": "stdout"
        }
      ]
    },
    {
      "cell_type": "markdown",
      "metadata": {
        "id": "7RD3YxZLe0YY"
      },
      "source": [
        "Program to Make a Simple Calculator"
      ]
    },
    {
      "cell_type": "code",
      "metadata": {
        "colab": {
          "base_uri": "https://localhost:8080/"
        },
        "id": "uzVilp2re5Dd",
        "outputId": "a589e1b7-f6f8-4055-a988-633ecd27d785"
      },
      "source": [
        "def add(n,m):\n",
        "  return n+m\n",
        "def sub(n,m):\n",
        "  return n-m\n",
        "def mul(n,m):\n",
        "  return n*m\n",
        "def div(n,m):\n",
        "  return n/m\n",
        "n=int(input())\n",
        "m=int(input())\n",
        "print(\"1 add 2 sub 3 mul 4 div\")\n",
        "c=int(input())\n",
        "if c==1:\n",
        "  print(add(n,m))\n",
        "elif c==2:\n",
        "  print(sub(n,m))\n",
        "elif c==3:\n",
        "  print(mul(n,m))\n",
        "elif c==4:\n",
        "  print(div(n,m))\n",
        "else:\n",
        "  print(\"invalid2\")"
      ],
      "execution_count": null,
      "outputs": [
        {
          "output_type": "stream",
          "text": [
            "2\n",
            "3\n",
            "1 add 2 sub 3 mul 4 div\n",
            "2\n",
            "-1\n"
          ],
          "name": "stdout"
        }
      ]
    },
    {
      "cell_type": "markdown",
      "metadata": {
        "id": "yEskRELOhna1"
      },
      "source": [
        "Program to search an element in an array or LINEAR SEARCH"
      ]
    },
    {
      "cell_type": "code",
      "metadata": {
        "id": "eI7Fa8GEiDzw",
        "colab": {
          "base_uri": "https://localhost:8080/"
        },
        "outputId": "3a6b6531-2343-4ee0-e0a6-e60a322e0c0d"
      },
      "source": [
        "l=list(map(int,input().split()))\n",
        "s=int(input())\n",
        "flag=0\n",
        "for i in range(0,len(l)):\n",
        "  if l[i]==s:\n",
        "    flag=1\n",
        "    break\n",
        "if flag==1:\n",
        "  print(\"Found\",l[i])\n",
        "else:\n",
        "  print(\"Not found\")"
      ],
      "execution_count": null,
      "outputs": [
        {
          "output_type": "stream",
          "text": [
            "1 2 3 4 5\n",
            "33\n",
            "Not found\n"
          ],
          "name": "stdout"
        }
      ]
    },
    {
      "cell_type": "markdown",
      "metadata": {
        "id": "PZrkijfHWq0B"
      },
      "source": [
        "Python Program to Sort Words in Alphabetic Order"
      ]
    },
    {
      "cell_type": "code",
      "metadata": {
        "colab": {
          "base_uri": "https://localhost:8080/"
        },
        "id": "zeW9GDlDf_9M",
        "outputId": "9d49946f-d067-4e36-aed6-b203337aef32"
      },
      "source": [
        "s=input().split()\n",
        "s.sort()\n",
        "print(*(s))"
      ],
      "execution_count": null,
      "outputs": [
        {
          "output_type": "stream",
          "text": [
            "my name is aashikha\n",
            "aashikha is my name\n"
          ],
          "name": "stdout"
        }
      ]
    },
    {
      "cell_type": "markdown",
      "metadata": {
        "id": "O6Li22uXho45"
      },
      "source": [
        "Program to Remove Punctuation from a String"
      ]
    },
    {
      "cell_type": "code",
      "metadata": {
        "colab": {
          "base_uri": "https://localhost:8080/"
        },
        "id": "m5Fo_UGkhpzt",
        "outputId": "47ba9a93-46e1-452f-ca56-08c3314a9259"
      },
      "source": [
        "s=input()\n",
        "l=[]\n",
        "a=\" \"\n",
        "for i in range(0,len(s)):\n",
        "  if  (s[i]>='a' and s[i]<='z') or (s[i]>='A' and s[i]<='Z'):\n",
        "    a+=(s[i])\n",
        "print(\" \".join(a))"
      ],
      "execution_count": null,
      "outputs": [
        {
          "output_type": "stream",
          "text": [
            "@WEE33345$$$5\n",
            "  W E E\n"
          ],
          "name": "stdout"
        }
      ]
    },
    {
      "cell_type": "markdown",
      "metadata": {
        "id": "BW7G6iEXk80_"
      },
      "source": [
        "program to check if the given number is a Disarium Number"
      ]
    },
    {
      "cell_type": "code",
      "metadata": {
        "colab": {
          "base_uri": "https://localhost:8080/"
        },
        "id": "iBTK8oI1k9eU",
        "outputId": "bb5fabef-6bba-4901-f2ac-5d2d35835d4d"
      },
      "source": [
        "n=int(input())\n",
        "rem=0\n",
        "temp=n\n",
        "t=n\n",
        "p=0\n",
        "count=0\n",
        "while(temp>0):\n",
        "  count=count+1\n",
        "  temp=temp//10\n",
        "#return count\n",
        "c=count\n",
        "while(n>0):\n",
        "  rem=n%10\n",
        "  p=p + int(rem**c)\n",
        "  print(p)\n",
        "  n=n//10\n",
        "  c=c-1\n",
        "if p==t:\n",
        "  print(p,\"is a disarium no\")\n",
        "else:\n",
        "  print(p,\"is not a disarium no\")"
      ],
      "execution_count": null,
      "outputs": [
        {
          "output_type": "stream",
          "text": [
            "175\n",
            "125\n",
            "174\n",
            "175\n",
            "175 is a disarium no\n"
          ],
          "name": "stdout"
        }
      ]
    },
    {
      "cell_type": "markdown",
      "metadata": {
        "id": "_hXQ0w1FyQbm"
      },
      "source": [
        " program to print all disarium numbers between 1 and 100"
      ]
    },
    {
      "cell_type": "code",
      "metadata": {
        "colab": {
          "base_uri": "https://localhost:8080/"
        },
        "id": "FxOV9Sg_yRRN",
        "outputId": "904ee654-79f6-4969-db09-bfca6ed165c7"
      },
      "source": [
        "n=int(input())\n",
        "on=n\n",
        "temp=n\n",
        "sum=rem=0\n",
        "count=0\n",
        "while temp>0:\n",
        "  count+=1\n",
        "  temp//=10\n",
        "c=count\n",
        "while n>0:\n",
        "  rem=n%10\n",
        "  sum=sum+int(rem**c)\n",
        "  print(sum)\n",
        "  n//=10\n",
        "  c-=1\n",
        "if sum==on:\n",
        "  print(on,\" is a disarium no\")\n",
        "else:\n",
        "  print(on,\"is not a disarium no\")"
      ],
      "execution_count": null,
      "outputs": [
        {
          "output_type": "stream",
          "text": [
            "175\n",
            "125\n",
            "174\n",
            "175\n",
            "175  is a disarium no\n"
          ],
          "name": "stdout"
        }
      ]
    },
    {
      "cell_type": "markdown",
      "metadata": {
        "id": "2l14SiXZ1XUq"
      },
      "source": [
        "\n",
        "\n",
        "*   List item\n",
        "*   List item\n",
        "\n"
      ]
    },
    {
      "cell_type": "markdown",
      "metadata": {
        "id": "vAHCDl7wwwZN"
      },
      "source": [
        "TO FIND FACTORS AND PRINT THE PRODUCT OF FACTORS"
      ]
    },
    {
      "cell_type": "code",
      "metadata": {
        "colab": {
          "base_uri": "https://localhost:8080/"
        },
        "id": "dk-ihFlxvB9S",
        "outputId": "304b65a8-e257-4987-c380-7f8ac2483041"
      },
      "source": [
        "n=int(input())\n",
        "x=1\n",
        "for i in range(1,n+1):\n",
        "  if n%i==0:\n",
        "    print(i)\n",
        "    x=x*i\n",
        "print(x)"
      ],
      "execution_count": null,
      "outputs": [
        {
          "output_type": "stream",
          "text": [
            "4\n",
            "1\n",
            "2\n",
            "4\n",
            "8\n"
          ],
          "name": "stdout"
        }
      ]
    }
  ]
}